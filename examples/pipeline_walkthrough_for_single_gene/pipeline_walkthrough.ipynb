{
    "cells": [
        {
            "cell_type": "markdown",
            "metadata": {},
            "source": [
                "# Pipeline overview:\n",
                "1. **Find a query protein in the orthoDB database** (retrieve the corresponding orthoDB ID)\n",
                "   - you can find a protein by looking up its uniprot ID in the orthoDB database. You can also set the orthoDB ID manually if you already know it. \n",
                "   - *Note: If it can't find an orthoDB ID for a given UniprotID, it doesn't mean that the protein is absent from the orthoDB. It could still be present but was retrieved from a different database and a uniprot ID was not mapped to it. View OrthoDB documentation for more info on where the sequences come from. I have not solved this problem. In the future, it would be nice to develop a way to search for the actual full length sequence using blast or something, if it fails to find the uniprot ID*\n",
                "2. **Retrieve the orthoDB-defined groups of homologous sequences** (orthogroup IDs) containing the query protein\n",
                "3. **Select a group based on phylogenetic level**\n",
                "4. **Filter** out sequences in the group that are too short (relative to the length of the query sequence) or that contain non amino acid characters\n",
                "5. **Filter to least divergent orthologs (LDOs)**:\n",
                "   - For each organism in the group, select the sequence that is most similar to the query sequence such that there is only one sequence per organism\n",
                "6. **Cluster the filtered LDOs using CD-HIT**\n",
                "7. **Align the clustered sequences** (uses MAFFT by default)\n",
                "8. **output** the alignment and the ortholog group information in a directory structure that is compatible with the conservation analysis pipeline (link)"
            ]
        },
        {
            "cell_type": "markdown",
            "metadata": {},
            "source": [
                "---"
            ]
        },
        {
            "cell_type": "markdown",
            "metadata": {},
            "source": [
                "You don't have to worry about using any of this code directly, since you should be able to just run the main script (`../../orthodb_tools/scripts/orthogroup_pipeline.py`) but it might be useful to understand what is going on under the hood if you want to write your own script.<br>\n",
                "The main script in `../../orthodb_tools/scripts/orthogroup_pipeline.py` combines all of the steps in a single script, using a configuration file to specify all of the parameters.<br>\n",
                "This notebook will walk through all of the steps in the pipeline manually"
            ]
        },
        {
            "cell_type": "markdown",
            "metadata": {},
            "source": [
                "# imports"
            ]
        },
        {
            "cell_type": "code",
            "execution_count": 1,
            "metadata": {},
            "outputs": [],
            "source": [
                "from Bio import AlignIO, SeqIO\n",
                "import orthodb_tools.env_variables.env_variables as env\n",
                "\n",
                "%load_ext autoreload\n",
                "%autoreload 2"
            ]
        },
        {
            "cell_type": "markdown",
            "metadata": {},
            "source": [
                "# Run parameters"
            ]
        },
        {
            "cell_type": "code",
            "execution_count": 2,
            "metadata": {},
            "outputs": [],
            "source": [
                "min_fraction_of_query_length = 0.5\n",
                "level='Vertebrata'\n",
                "LDO_selection_method = 'alfpy_google_distance'"
            ]
        },
        {
            "cell_type": "markdown",
            "metadata": {},
            "source": [
                "# 1. find a query protein in the orthoDB database"
            ]
        },
        {
            "cell_type": "markdown",
            "metadata": {},
            "source": [
                "## search for the uniprot id: Q8TC90"
            ]
        },
        {
            "cell_type": "code",
            "execution_count": 3,
            "metadata": {},
            "outputs": [],
            "source": [
                "from orthodb_tools.orthogroup_processing import uniprotid_search"
            ]
        },
        {
            "cell_type": "code",
            "execution_count": 4,
            "metadata": {},
            "outputs": [
                {
                    "name": "stdout",
                    "output_type": "stream",
                    "text": [
                        "Multiple matches for `Q8TC90` in table\n",
                        "['9606_0:002f40', '9606_0:002f40']\n",
                        "choosing a single id from multiple matches by \"longest\"\n",
                        "choosing 9606_0:002f40 as the longest sequence\n",
                        "\n",
                        "Uniprot ID: Q8TC90 -> ODB gene ID: 9606_0:002f40\n"
                    ]
                }
            ],
            "source": [
                "uniprot_id = 'Q8TC90'\n",
                "odb_gene_id = uniprotid_search.uniprotid_2_odb_gene_id(uniprot_id)\n",
                "print()\n",
                "print(f'Uniprot ID: {uniprot_id} -> ODB gene ID: {odb_gene_id}')"
            ]
        },
        {
            "cell_type": "markdown",
            "metadata": {},
            "source": [
                "# 2. get the ortholog groups (og_ids) that contain the query protein"
            ]
        },
        {
            "cell_type": "code",
            "execution_count": 5,
            "metadata": {},
            "outputs": [],
            "source": [
                "from orthodb_tools.orthogroup_processing import og_selection\n",
                "from orthodb_tools import sql_queries"
            ]
        },
        {
            "cell_type": "code",
            "execution_count": 6,
            "metadata": {},
            "outputs": [
                {
                    "name": "stdout",
                    "output_type": "stream",
                    "text": [
                        "['21856at40674', '18706at314295', '18706at9604', '622381at9347', '96736at9443', '96736at314146', '351562at32523', '1771281at33208', '869863at7742', '4642869at2759']\n"
                    ]
                }
            ],
            "source": [
                "og_ids = sql_queries.odb_gene_id_2_ogid_list(odb_gene_id)\n",
                "print(og_ids)"
            ]
        },
        {
            "cell_type": "code",
            "execution_count": 7,
            "metadata": {},
            "outputs": [
                {
                    "data": {
                        "text/html": [
                            "<div>\n",
                            "<style scoped>\n",
                            "    .dataframe tbody tr th:only-of-type {\n",
                            "        vertical-align: middle;\n",
                            "    }\n",
                            "\n",
                            "    .dataframe tbody tr th {\n",
                            "        vertical-align: top;\n",
                            "    }\n",
                            "\n",
                            "    .dataframe thead th {\n",
                            "        text-align: right;\n",
                            "    }\n",
                            "</style>\n",
                            "<table border=\"1\" class=\"dataframe\">\n",
                            "  <thead>\n",
                            "    <tr style=\"text-align: right;\">\n",
                            "      <th></th>\n",
                            "      <th>OG id</th>\n",
                            "      <th>level NCBI tax id</th>\n",
                            "      <th>level name</th>\n",
                            "      <th>total non-redundant count of species underneath</th>\n",
                            "      <th>OG name</th>\n",
                            "    </tr>\n",
                            "  </thead>\n",
                            "  <tbody>\n",
                            "    <tr>\n",
                            "      <th>2</th>\n",
                            "      <td>18706at9604</td>\n",
                            "      <td>9604</td>\n",
                            "      <td>Hominidae</td>\n",
                            "      <td>5</td>\n",
                            "      <td>Coiled-coil domain-containing glutamate-rich p...</td>\n",
                            "    </tr>\n",
                            "    <tr>\n",
                            "      <th>1</th>\n",
                            "      <td>18706at314295</td>\n",
                            "      <td>314295</td>\n",
                            "      <td>Hominoidea</td>\n",
                            "      <td>7</td>\n",
                            "      <td>Coiled-coil domain-containing glutamate-rich p...</td>\n",
                            "    </tr>\n",
                            "    <tr>\n",
                            "      <th>4</th>\n",
                            "      <td>96736at9443</td>\n",
                            "      <td>9443</td>\n",
                            "      <td>Primates</td>\n",
                            "      <td>30</td>\n",
                            "      <td>coiled-coil glutamate rich protein 1</td>\n",
                            "    </tr>\n",
                            "    <tr>\n",
                            "      <th>5</th>\n",
                            "      <td>96736at314146</td>\n",
                            "      <td>314146</td>\n",
                            "      <td>Euarchontoglires</td>\n",
                            "      <td>70</td>\n",
                            "      <td>coiled-coil glutamate rich protein 1</td>\n",
                            "    </tr>\n",
                            "    <tr>\n",
                            "      <th>3</th>\n",
                            "      <td>622381at9347</td>\n",
                            "      <td>9347</td>\n",
                            "      <td>Eutheria</td>\n",
                            "      <td>182</td>\n",
                            "      <td>coiled-coil glutamate rich protein 1</td>\n",
                            "    </tr>\n",
                            "    <tr>\n",
                            "      <th>0</th>\n",
                            "      <td>21856at40674</td>\n",
                            "      <td>40674</td>\n",
                            "      <td>Mammalia</td>\n",
                            "      <td>191</td>\n",
                            "      <td>coiled-coil glutamate rich protein 1</td>\n",
                            "    </tr>\n",
                            "    <tr>\n",
                            "      <th>6</th>\n",
                            "      <td>351562at32523</td>\n",
                            "      <td>32523</td>\n",
                            "      <td>Tetrapoda</td>\n",
                            "      <td>325</td>\n",
                            "      <td>coiled-coil glutamate rich protein 1</td>\n",
                            "    </tr>\n",
                            "    <tr>\n",
                            "      <th>8</th>\n",
                            "      <td>869863at7742</td>\n",
                            "      <td>7742</td>\n",
                            "      <td>Vertebrata</td>\n",
                            "      <td>470</td>\n",
                            "      <td>coiled-coil glutamate rich protein 1</td>\n",
                            "    </tr>\n",
                            "    <tr>\n",
                            "      <th>7</th>\n",
                            "      <td>1771281at33208</td>\n",
                            "      <td>33208</td>\n",
                            "      <td>Metazoa</td>\n",
                            "      <td>817</td>\n",
                            "      <td>coiled-coil glutamate rich protein 1</td>\n",
                            "    </tr>\n",
                            "    <tr>\n",
                            "      <th>9</th>\n",
                            "      <td>4642869at2759</td>\n",
                            "      <td>2759</td>\n",
                            "      <td>Eukaryota</td>\n",
                            "      <td>1952</td>\n",
                            "      <td>coiled-coil glutamate rich protein 1</td>\n",
                            "    </tr>\n",
                            "  </tbody>\n",
                            "</table>\n",
                            "</div>"
                        ],
                        "text/plain": [
                            "            OG id  level NCBI tax id        level name  \\\n",
                            "2     18706at9604               9604         Hominidae   \n",
                            "1   18706at314295             314295        Hominoidea   \n",
                            "4     96736at9443               9443          Primates   \n",
                            "5   96736at314146             314146  Euarchontoglires   \n",
                            "3    622381at9347               9347          Eutheria   \n",
                            "0    21856at40674              40674          Mammalia   \n",
                            "6   351562at32523              32523         Tetrapoda   \n",
                            "8    869863at7742               7742        Vertebrata   \n",
                            "7  1771281at33208              33208           Metazoa   \n",
                            "9   4642869at2759               2759         Eukaryota   \n",
                            "\n",
                            "   total non-redundant count of species underneath  \\\n",
                            "2                                                5   \n",
                            "1                                                7   \n",
                            "4                                               30   \n",
                            "5                                               70   \n",
                            "3                                              182   \n",
                            "0                                              191   \n",
                            "6                                              325   \n",
                            "8                                              470   \n",
                            "7                                              817   \n",
                            "9                                             1952   \n",
                            "\n",
                            "                                             OG name  \n",
                            "2  Coiled-coil domain-containing glutamate-rich p...  \n",
                            "1  Coiled-coil domain-containing glutamate-rich p...  \n",
                            "4              coiled-coil glutamate rich protein 1   \n",
                            "5              coiled-coil glutamate rich protein 1   \n",
                            "3              coiled-coil glutamate rich protein 1   \n",
                            "0              coiled-coil glutamate rich protein 1   \n",
                            "6              coiled-coil glutamate rich protein 1   \n",
                            "8              coiled-coil glutamate rich protein 1   \n",
                            "7              coiled-coil glutamate rich protein 1   \n",
                            "9              coiled-coil glutamate rich protein 1   "
                        ]
                    },
                    "execution_count": 7,
                    "metadata": {},
                    "output_type": "execute_result"
                }
            ],
            "source": [
                "# og_id information\n",
                "og_selection.get_available_ogs(odb_gene_id)"
            ]
        },
        {
            "cell_type": "markdown",
            "metadata": {},
            "source": [
                "# 3. select a group and retrieve the sequences"
            ]
        },
        {
            "cell_type": "markdown",
            "metadata": {},
            "source": [
                "## let's select the 'Vertebrata' group"
            ]
        },
        {
            "cell_type": "code",
            "execution_count": 8,
            "metadata": {},
            "outputs": [
                {
                    "name": "stdout",
                    "output_type": "stream",
                    "text": [
                        "869863at7742\n",
                        "Vertebrata\n"
                    ]
                }
            ],
            "source": [
                "ogid, oglevel = og_selection.select_OG_by_level_name(odb_gene_id=odb_gene_id, level_name='Vertebrata')\n",
                "print(ogid)\n",
                "print(oglevel)"
            ]
        },
        {
            "cell_type": "code",
            "execution_count": 9,
            "metadata": {},
            "outputs": [
                {
                    "ename": "ValueError",
                    "evalue": "No OGs found for 9606_0:002f40 with level name `Bacteria`. available levels are: ['Hominidae', 'Hominoidea', 'Primates', 'Euarchontoglires', 'Eutheria', 'Mammalia', 'Tetrapoda', 'Vertebrata', 'Metazoa', 'Eukaryota']",
                    "output_type": "error",
                    "traceback": [
                        "\u001b[0;31m---------------------------------------------------------------------------\u001b[0m",
                        "\u001b[0;31mValueError\u001b[0m                                Traceback (most recent call last)",
                        "Cell \u001b[0;32mIn[9], line 2\u001b[0m\n\u001b[1;32m      1\u001b[0m \u001b[38;5;66;03m# if we provide a level name that isn't found in the database, we get an error\u001b[39;00m\n\u001b[0;32m----> 2\u001b[0m \u001b[43mog_selection\u001b[49m\u001b[38;5;241;43m.\u001b[39;49m\u001b[43mselect_OG_by_level_name\u001b[49m\u001b[43m(\u001b[49m\u001b[43modb_gene_id\u001b[49m\u001b[38;5;241;43m=\u001b[39;49m\u001b[43modb_gene_id\u001b[49m\u001b[43m,\u001b[49m\u001b[43m \u001b[49m\u001b[43mlevel_name\u001b[49m\u001b[38;5;241;43m=\u001b[39;49m\u001b[38;5;124;43m'\u001b[39;49m\u001b[38;5;124;43mBacteria\u001b[39;49m\u001b[38;5;124;43m'\u001b[39;49m\u001b[43m)\u001b[49m\n",
                        "File \u001b[0;32m~/Dropbox (MIT)/work/07-SLiM_bioinformatics/04-orthoDB_local_orthogroup_creation/orthodb_tools/orthogroup_processing/og_selection.py:77\u001b[0m, in \u001b[0;36mselect_OG_by_level_name\u001b[0;34m(odb_gene_id, level_name)\u001b[0m\n\u001b[1;32m     75\u001b[0m selected_OG_info_df \u001b[38;5;241m=\u001b[39m ogs_info_df[ogs_info_df[\u001b[38;5;124m\"\u001b[39m\u001b[38;5;124mlevel name\u001b[39m\u001b[38;5;124m\"\u001b[39m] \u001b[38;5;241m==\u001b[39m level_name]\n\u001b[1;32m     76\u001b[0m \u001b[38;5;28;01mif\u001b[39;00m \u001b[38;5;28mlen\u001b[39m(selected_OG_info_df) \u001b[38;5;241m==\u001b[39m \u001b[38;5;241m0\u001b[39m:\n\u001b[0;32m---> 77\u001b[0m     \u001b[38;5;28;01mraise\u001b[39;00m \u001b[38;5;167;01mValueError\u001b[39;00m(\n\u001b[1;32m     78\u001b[0m         \u001b[38;5;124mf\u001b[39m\u001b[38;5;124m\"\u001b[39m\u001b[38;5;124mNo OGs found for \u001b[39m\u001b[38;5;132;01m{\u001b[39;00modb_gene_id\u001b[38;5;132;01m}\u001b[39;00m\u001b[38;5;124m with level name `\u001b[39m\u001b[38;5;132;01m{\u001b[39;00mlevel_name\u001b[38;5;132;01m}\u001b[39;00m\u001b[38;5;124m`. available levels are: \u001b[39m\u001b[38;5;132;01m{\u001b[39;00m\u001b[38;5;28mlist\u001b[39m(ogs_info_df[\u001b[38;5;124m'\u001b[39m\u001b[38;5;124mlevel name\u001b[39m\u001b[38;5;124m'\u001b[39m]\u001b[38;5;241m.\u001b[39munique())\u001b[38;5;132;01m}\u001b[39;00m\u001b[38;5;124m\"\u001b[39m\n\u001b[1;32m     79\u001b[0m     )\n\u001b[1;32m     80\u001b[0m \u001b[38;5;28;01mif\u001b[39;00m \u001b[38;5;28mlen\u001b[39m(selected_OG_info_df) \u001b[38;5;241m>\u001b[39m \u001b[38;5;241m1\u001b[39m:\n\u001b[1;32m     81\u001b[0m     \u001b[38;5;28;01mraise\u001b[39;00m \u001b[38;5;167;01mValueError\u001b[39;00m(\n\u001b[1;32m     82\u001b[0m         \u001b[38;5;124mf\u001b[39m\u001b[38;5;124m\"\u001b[39m\u001b[38;5;124mMultiple OGs found for \u001b[39m\u001b[38;5;132;01m{\u001b[39;00modb_gene_id\u001b[38;5;132;01m}\u001b[39;00m\u001b[38;5;124m with level name `\u001b[39m\u001b[38;5;132;01m{\u001b[39;00mlevel_name\u001b[38;5;132;01m}\u001b[39;00m\u001b[38;5;124m`. duplicate OGs: \u001b[39m\u001b[38;5;132;01m{\u001b[39;00mselected_OG_info_df\u001b[38;5;132;01m}\u001b[39;00m\u001b[38;5;124m\"\u001b[39m\n\u001b[1;32m     83\u001b[0m     )\n",
                        "\u001b[0;31mValueError\u001b[0m: No OGs found for 9606_0:002f40 with level name `Bacteria`. available levels are: ['Hominidae', 'Hominoidea', 'Primates', 'Euarchontoglires', 'Eutheria', 'Mammalia', 'Tetrapoda', 'Vertebrata', 'Metazoa', 'Eukaryota']"
                    ]
                }
            ],
            "source": [
                "# if we provide a level name that isn't found in the database, we get an error\n",
                "og_selection.select_OG_by_level_name(odb_gene_id=odb_gene_id, level_name='Bacteria')"
            ]
        },
        {
            "cell_type": "markdown",
            "metadata": {},
            "source": [
                "## Get the sequences in the group"
            ]
        },
        {
            "cell_type": "code",
            "execution_count": 10,
            "metadata": {},
            "outputs": [],
            "source": [
                "group_members = sql_queries.ogid_2_odb_gene_id_list(ogid)\n",
                "ODB_DATABASE = env.orthoDBDatabase()\n",
                "sequence_dict = ODB_DATABASE.get_sequences_from_list_of_seq_ids(group_members)\n",
                "query_seqrecord = sequence_dict[odb_gene_id]\n",
                "min_length = min_fraction_of_query_length * len(query_seqrecord)"
            ]
        },
        {
            "cell_type": "code",
            "execution_count": 11,
            "metadata": {},
            "outputs": [
                {
                    "name": "stdout",
                    "output_type": "stream",
                    "text": [
                        "ID: 9606_0:002f40\n",
                        "Name: 9606_0:002f40\n",
                        "Description: 9606_0:002f40\t9606_0\n",
                        "Number of features: 0\n",
                        "Seq('MTQTLDTREDPLNLGGGGGGGCGCGWAHSASLSSWSSCHRRRPGAPAYNRPHRY...FNC')\n"
                    ]
                }
            ],
            "source": [
                "print(query_seqrecord)"
            ]
        },
        {
            "cell_type": "markdown",
            "metadata": {},
            "source": [
                "# 4. filter out sequences that are too short or contain non amino acid characters"
            ]
        },
        {
            "cell_type": "code",
            "execution_count": 12,
            "metadata": {},
            "outputs": [],
            "source": [
                "import orthodb_tools.orthogroup_processing.filters as filters"
            ]
        },
        {
            "cell_type": "code",
            "execution_count": 15,
            "metadata": {},
            "outputs": [
                {
                    "name": "stdout",
                    "output_type": "stream",
                    "text": [
                        "349\n",
                        "336\n",
                        "308\n"
                    ]
                }
            ],
            "source": [
                "print(len(sequence_dict))\n",
                "filtered_sequence_dict = filters.filter_seqs_with_nonaa_chars(\n",
                "    sequence_dict,\n",
                ")\n",
                "print(len(filtered_sequence_dict))\n",
                "filtered_sequence_dict = filters.filter_shorter_sequences(\n",
                "    filtered_sequence_dict,\n",
                "    min_length=min_length,\n",
                ")\n",
                "if query_seqrecord.id not in filtered_sequence_dict:\n",
                "    filtered_sequence_dict[query_seqrecord.id] = copy.deepcopy(query_seqrecord)\n",
                "\n",
                "print(len(filtered_sequence_dict))"
            ]
        },
        {
            "cell_type": "markdown",
            "metadata": {},
            "source": [
                "# 5. find least divergent orthologs (LDOs)"
            ]
        },
        {
            "cell_type": "code",
            "execution_count": 16,
            "metadata": {},
            "outputs": [],
            "source": [
                "import orthodb_tools.orthogroup_processing.find_LDOs as find_LDOs"
            ]
        },
        {
            "cell_type": "code",
            "execution_count": 17,
            "metadata": {},
            "outputs": [
                {
                    "name": "stdout",
                    "output_type": "stream",
                    "text": [
                        "comparing sequences using alignment free comparison (alfpy google distance)\n"
                    ]
                }
            ],
            "source": [
                "pid_df, ldos = find_LDOs.find_LDOs_main(\n",
                "    seqrecord_dict=filtered_sequence_dict,\n",
                "    query_seqrecord=query_seqrecord,\n",
                "    pid_method = LDO_selection_method,\n",
                ")"
            ]
        },
        {
            "cell_type": "code",
            "execution_count": 18,
            "metadata": {},
            "outputs": [
                {
                    "data": {
                        "text/html": [
                            "<div>\n",
                            "<style scoped>\n",
                            "    .dataframe tbody tr th:only-of-type {\n",
                            "        vertical-align: middle;\n",
                            "    }\n",
                            "\n",
                            "    .dataframe tbody tr th {\n",
                            "        vertical-align: top;\n",
                            "    }\n",
                            "\n",
                            "    .dataframe thead th {\n",
                            "        text-align: right;\n",
                            "    }\n",
                            "</style>\n",
                            "<table border=\"1\" class=\"dataframe\">\n",
                            "  <thead>\n",
                            "    <tr style=\"text-align: right;\">\n",
                            "      <th></th>\n",
                            "      <th>id</th>\n",
                            "      <th>organism</th>\n",
                            "      <th>PID</th>\n",
                            "    </tr>\n",
                            "  </thead>\n",
                            "  <tbody>\n",
                            "    <tr>\n",
                            "      <th>0</th>\n",
                            "      <td>10020_0:000423</td>\n",
                            "      <td>10020_0</td>\n",
                            "      <td>0.662710</td>\n",
                            "    </tr>\n",
                            "    <tr>\n",
                            "      <th>1</th>\n",
                            "      <td>10029_0:0001d8</td>\n",
                            "      <td>10029_0</td>\n",
                            "      <td>0.651964</td>\n",
                            "    </tr>\n",
                            "    <tr>\n",
                            "      <th>2</th>\n",
                            "      <td>10036_0:002a79</td>\n",
                            "      <td>10036_0</td>\n",
                            "      <td>0.661279</td>\n",
                            "    </tr>\n",
                            "    <tr>\n",
                            "      <th>3</th>\n",
                            "      <td>10041_0:003b55</td>\n",
                            "      <td>10041_0</td>\n",
                            "      <td>0.659235</td>\n",
                            "    </tr>\n",
                            "    <tr>\n",
                            "      <th>4</th>\n",
                            "      <td>10047_0:00520a</td>\n",
                            "      <td>10047_0</td>\n",
                            "      <td>0.644568</td>\n",
                            "    </tr>\n",
                            "    <tr>\n",
                            "      <th>...</th>\n",
                            "      <td>...</td>\n",
                            "      <td>...</td>\n",
                            "      <td>...</td>\n",
                            "    </tr>\n",
                            "    <tr>\n",
                            "      <th>303</th>\n",
                            "      <td>9978_0:000a44</td>\n",
                            "      <td>9978_0</td>\n",
                            "      <td>0.618854</td>\n",
                            "    </tr>\n",
                            "    <tr>\n",
                            "      <th>304</th>\n",
                            "      <td>9986_0:000f1c</td>\n",
                            "      <td>9986_0</td>\n",
                            "      <td>0.671115</td>\n",
                            "    </tr>\n",
                            "    <tr>\n",
                            "      <th>305</th>\n",
                            "      <td>9994_0:0002f8</td>\n",
                            "      <td>9994_0</td>\n",
                            "      <td>0.696887</td>\n",
                            "    </tr>\n",
                            "    <tr>\n",
                            "      <th>306</th>\n",
                            "      <td>9995_0:0035ea</td>\n",
                            "      <td>9995_0</td>\n",
                            "      <td>0.701641</td>\n",
                            "    </tr>\n",
                            "    <tr>\n",
                            "      <th>307</th>\n",
                            "      <td>9999_0:000312</td>\n",
                            "      <td>9999_0</td>\n",
                            "      <td>0.705574</td>\n",
                            "    </tr>\n",
                            "  </tbody>\n",
                            "</table>\n",
                            "<p>308 rows × 3 columns</p>\n",
                            "</div>"
                        ],
                        "text/plain": [
                            "                 id organism       PID\n",
                            "0    10020_0:000423  10020_0  0.662710\n",
                            "1    10029_0:0001d8  10029_0  0.651964\n",
                            "2    10036_0:002a79  10036_0  0.661279\n",
                            "3    10041_0:003b55  10041_0  0.659235\n",
                            "4    10047_0:00520a  10047_0  0.644568\n",
                            "..              ...      ...       ...\n",
                            "303   9978_0:000a44   9978_0  0.618854\n",
                            "304   9986_0:000f1c   9986_0  0.671115\n",
                            "305   9994_0:0002f8   9994_0  0.696887\n",
                            "306   9995_0:0035ea   9995_0  0.701641\n",
                            "307   9999_0:000312   9999_0  0.705574\n",
                            "\n",
                            "[308 rows x 3 columns]"
                        ]
                    },
                    "execution_count": 18,
                    "metadata": {},
                    "output_type": "execute_result"
                }
            ],
            "source": [
                "# sequence similarity matrix\n",
                "pid_df.drop(columns=['sequence'])"
            ]
        },
        {
            "cell_type": "code",
            "execution_count": 19,
            "metadata": {},
            "outputs": [],
            "source": [
                "ldo_seqrecord_dict = ODB_DATABASE.get_sequences_from_list_of_seq_ids(ldos)"
            ]
        },
        {
            "cell_type": "code",
            "execution_count": 20,
            "metadata": {},
            "outputs": [
                {
                    "name": "stdout",
                    "output_type": "stream",
                    "text": [
                        "308\n",
                        "295\n"
                    ]
                }
            ],
            "source": [
                "print(len(filtered_sequence_dict))\n",
                "print(len(ldos))"
            ]
        },
        {
            "cell_type": "markdown",
            "metadata": {},
            "source": [
                "# 6. cluster the LDOs using CD-HIT"
            ]
        },
        {
            "cell_type": "code",
            "execution_count": 21,
            "metadata": {},
            "outputs": [],
            "source": [
                "import orthodb_tools.orthogroup_processing.cluster as cluster"
            ]
        },
        {
            "cell_type": "code",
            "execution_count": 22,
            "metadata": {},
            "outputs": [
                {
                    "name": "stdout",
                    "output_type": "stream",
                    "text": [
                        "================================================================\n",
                        "Program: CD-HIT, V4.8.1, Apr 11 2024, 12:09:18\n",
                        "Command: cd-hit -i\n",
                        "         /var/folders/q4/k476_qrd3jvdvzwd6lq30kqc0000gn/T/tmpo_ow3f1f\n",
                        "         -o\n",
                        "         /var/folders/q4/k476_qrd3jvdvzwd6lq30kqc0000gn/T/tmpo_ow3f1f-cdhit.fa\n",
                        "         -M 0 -d 0 -g 1\n",
                        "\n",
                        "Started: Wed Jul 31 17:19:39 2024\n",
                        "================================================================\n",
                        "                            Output                              \n",
                        "----------------------------------------------------------------\n",
                        "total seq: 295\n",
                        "longest and shortest : 554 and 203\n",
                        "Total letters: 97034\n",
                        "Sequences have been sorted\n",
                        "\n",
                        "Approximated minimal memory consumption:\n",
                        "Sequence        : 0M\n",
                        "Buffer          : 1 X 16M = 16M\n",
                        "Table           : 1 X 65M = 65M\n",
                        "Miscellaneous   : 0M\n",
                        "Total           : 81M\n",
                        "\n",
                        "Table limit with the given memory limit:\n",
                        "Max number of representatives: 4000000\n",
                        "Max number of word counting entries: 249777000\n",
                        "\n",
                        "comparing sequences from          0  to        295\n",
                        "\n",
                        "      295  finished        143  clusters\n",
                        "\n",
                        "Approximated maximum memory consumption: 81M\n",
                        "writing new database\n",
                        "writing clustering information\n",
                        "program completed !\n",
                        "\n",
                        "Total CPU time 0.08\n",
                        "found keyword in Cluster 38\n"
                    ]
                }
            ],
            "source": [
                "cluster_cmd, clustered_ldo_seqrec_dict = cluster.cdhit_main(ldo_seqrecord_dict, odb_gene_id)"
            ]
        },
        {
            "cell_type": "code",
            "execution_count": 23,
            "metadata": {},
            "outputs": [
                {
                    "name": "stdout",
                    "output_type": "stream",
                    "text": [
                        "143\n"
                    ]
                }
            ],
            "source": [
                "print(len(clustered_ldo_seqrec_dict))"
            ]
        },
        {
            "cell_type": "markdown",
            "metadata": {},
            "source": [
                "# 7. align the clustered sequences"
            ]
        },
        {
            "cell_type": "code",
            "execution_count": 24,
            "metadata": {},
            "outputs": [],
            "source": [
                "import orthodb_tools.tools.cli_wrappers as cli_wrappers"
            ]
        },
        {
            "cell_type": "code",
            "execution_count": 25,
            "metadata": {},
            "outputs": [],
            "source": [
                "mafftcmd, aligned_seqs_dict = cli_wrappers.mafft_align_wrapper(\n",
                "    list(clustered_ldo_seqrec_dict.values()),\n",
                "    n_align_threads=8,\n",
                ")"
            ]
        },
        {
            "cell_type": "code",
            "execution_count": 26,
            "metadata": {},
            "outputs": [
                {
                    "name": "stdout",
                    "output_type": "stream",
                    "text": [
                        "Alignment with 50 rows and 45 columns\n",
                        "-----------ASPSPLPPWSPCH------------------RRR 38626_0:002d6b\n",
                        "-----------ASPSSLPPWSPCH------------------RRR 9337_0:0036f4\n",
                        "-----------ASPSPLPPWSPCH------------------RRR 191870_0:004228\n",
                        "-----------ASPSPLPPWSPCH------------------RRR 13616_0:004984\n",
                        "-----------ASPSPLPPWSPCH------------------RRR 29139_0:004c06\n",
                        "-----------ASPSPLPPWSPCH------------------RRR 33562_0:00480c\n",
                        "-----------SSPAAGPPPGACHG-----------------RGR 9258_0:002c95\n",
                        "-----------APPAPLRTWSTCH------------------RRR 286419_0:002935\n",
                        "-----------SSSAPLGTWSSCR------------------RRR 34839_0:00034e\n",
                        "-----------ASSAPLGTWSTCH------------------RRR 36723_0:001c9a\n",
                        "-----------ASSAGLGTWSSCP------------------RRR 143302_0:000941\n",
                        "-----------SSSVPLRTWSSYH------------------RRR 105255_0:002d50\n",
                        "-----------ATSAPLRTSYTCH------------------RRR 9662_0:001c88\n",
                        "-----------APPAPLRTWSTCH------------------RRR 494514_0:004bb3\n",
                        "-----------ASPSALPPWSPCH------------------RRR 9305_0:00441e\n",
                        "-----------ASSAPLGTWSSWH------------------RRR 9691_0:000e78\n",
                        "-----------ASSARLRNWSSCH------------------RRR 127582_0:00327f\n",
                        "-----------SSSAPLGTWSSCR------------------RRR 10160_0:00029d\n",
                        "...\n",
                        "-----------ASSLPLHTWSSYH------------------RRQ 10047_0:00520a\n"
                    ]
                }
            ],
            "source": [
                "aln = AlignIO.MultipleSeqAlignment(list(aligned_seqs_dict.values()))\n",
                "print(aln[0:50, 175:220])"
            ]
        },
        {
            "cell_type": "markdown",
            "metadata": {},
            "source": [
                "# running the whole pipeline"
            ]
        },
        {
            "cell_type": "markdown",
            "metadata": {},
            "source": [
                "the `orthodb_tools.orthogroup_pipeline` function runs the entire pipeline in one go, using a configuration object (defined in `orthodb_tools.config.orthodb_pipeline_parameters.py`) to specify all of the parameters."
            ]
        },
        {
            "cell_type": "code",
            "execution_count": 27,
            "metadata": {},
            "outputs": [],
            "source": [
                "import orthodb_tools\n",
                "import orthodb_tools.config.orthodb_pipeline_parameters as conf"
            ]
        },
        {
            "cell_type": "code",
            "execution_count": 28,
            "metadata": {},
            "outputs": [],
            "source": [
                "processing_params = {\n",
                "    \"overwrite\": True,\n",
                "    \"filter_params\": {\n",
                "        \"min_fraction_shorter_than_query\": 0.5,\n",
                "    },\n",
                "    \"og_select_params\": {\n",
                "        \"OG_selection_method\": \"level_name\",\n",
                "        \"OG_level_name\": 'Vertebrata',\n",
                "    },\n",
                "    \"ldo_select_params\": {\n",
                "        \"LDO_selection_method\": \"alfpy_google_distance\",\n",
                "    },\n",
                "    \"align_params\": {\n",
                "        \"align\": True,\n",
                "        \"n_align_threads\": 8,\n",
                "    },\n",
                "    \"main_output_folder\": \"output\",\n",
                "    \"write_files\": True,\n",
                "}"
            ]
        },
        {
            "cell_type": "markdown",
            "metadata": {},
            "source": [
                "`orthodb_tools` has a `load_config` function that loads a configuration file into a `conf.PipelineParams` object.<br> Here we go straight from a dictionary so I'll use the `conf.PipelineParams` object directly"
            ]
        },
        {
            "cell_type": "code",
            "execution_count": 29,
            "metadata": {},
            "outputs": [],
            "source": [
                "uniprot_id = 'Q8TC90'\n",
                "config = conf.PipelineParams.from_dict(processing_params)"
            ]
        },
        {
            "cell_type": "code",
            "execution_count": 30,
            "metadata": {},
            "outputs": [
                {
                    "name": "stdout",
                    "output_type": "stream",
                    "text": [
                        "Multiple matches for `Q8TC90` in table\n",
                        "['9606_0:002f40', '9606_0:002f40']\n",
                        "choosing a single id from multiple matches by \"longest\"\n",
                        "choosing 9606_0:002f40 as the longest sequence\n",
                        "comparing sequences using alignment free comparison (alfpy google distance)\n",
                        "================================================================\n",
                        "Program: CD-HIT, V4.8.1, Apr 11 2024, 12:09:18\n",
                        "Command: cd-hit -i\n",
                        "         /var/folders/q4/k476_qrd3jvdvzwd6lq30kqc0000gn/T/tmp11pg86i8\n",
                        "         -o\n",
                        "         /var/folders/q4/k476_qrd3jvdvzwd6lq30kqc0000gn/T/tmp11pg86i8-cdhit.fa\n",
                        "         -M 0 -d 0 -g 1\n",
                        "\n",
                        "Started: Wed Jul 31 17:22:58 2024\n",
                        "================================================================\n",
                        "                            Output                              \n",
                        "----------------------------------------------------------------\n",
                        "total seq: 295\n",
                        "longest and shortest : 554 and 203\n",
                        "Total letters: 97034\n",
                        "Sequences have been sorted\n",
                        "\n",
                        "Approximated minimal memory consumption:\n",
                        "Sequence        : 0M\n",
                        "Buffer          : 1 X 16M = 16M\n",
                        "Table           : 1 X 65M = 65M\n",
                        "Miscellaneous   : 0M\n",
                        "Total           : 81M\n",
                        "\n",
                        "Table limit with the given memory limit:\n",
                        "Max number of representatives: 4000000\n",
                        "Max number of word counting entries: 249777000\n",
                        "\n",
                        "comparing sequences from          0  to        295\n",
                        "\n",
                        "      295  finished        143  clusters\n",
                        "\n",
                        "Approximated maximum memory consumption: 81M\n",
                        "writing new database\n",
                        "writing clustering information\n",
                        "program completed !\n",
                        "\n",
                        "Total CPU time 0.08\n",
                        "found keyword in Cluster 38\n"
                    ]
                }
            ],
            "source": [
                "filename, output_dict = orthodb_tools.orthogroup_pipeline(config, uniprot_id=uniprot_id)"
            ]
        },
        {
            "cell_type": "markdown",
            "metadata": {},
            "source": [
                "The returned dictionary is essentially the same information that is saved to the json file"
            ]
        },
        {
            "cell_type": "code",
            "execution_count": 31,
            "metadata": {},
            "outputs": [
                {
                    "name": "stdout",
                    "output_type": "stream",
                    "text": [
                        "query_odb_gene_id\n",
                        "query_sequence_str\n",
                        "ogid\n",
                        "oglevel\n",
                        "sequences\n",
                        "sequences_filtered\n",
                        "sequences_ldos\n",
                        "sequences_clustered_ldos\n",
                        "cdhit_command\n",
                        "species_map\n",
                        "query_uniprot_id\n",
                        "processing params\n",
                        "alignment_clustered_ldos_file\n",
                        "alignment_clustered_ldos_command\n"
                    ]
                }
            ],
            "source": [
                "for i in output_dict.keys(): print(i)"
            ]
        },
        {
            "cell_type": "markdown",
            "metadata": {},
            "source": [
                "sequences can be loaded back into memory from the lists of sequence ids (`sequences*` keys)\n",
                "<br>\n",
                "for example:"
            ]
        },
        {
            "cell_type": "code",
            "execution_count": 32,
            "metadata": {},
            "outputs": [
                {
                    "name": "stdout",
                    "output_type": "stream",
                    "text": [
                        "['38626_0:002d6b', '9337_0:0036f4', '191870_0:004228', '13616_0:004984', '29139_0:004c06', '33562_0:00480c', '9258_0:002c95', '286419_0:002935', '34839_0:00034e', '36723_0:001c9a']\n"
                    ]
                }
            ],
            "source": [
                "print(output_dict['sequences_clustered_ldos'][0:10])"
            ]
        },
        {
            "cell_type": "code",
            "execution_count": 33,
            "metadata": {},
            "outputs": [
                {
                    "name": "stdout",
                    "output_type": "stream",
                    "text": [
                        "MALALDRRADPLNLGGGWASPSPLPPWSPCHRRRRSTAISRRRHRSGPKSEYAELRKQAKHQHDPGPPWPHAQRRPERSASPTCWGPGGWWTPGPWRCPPVEVWKPPGSVQVVRVYGLRPPCPCCCSCWSGPDKPGPGRLYRKKKKKRWGRKGRGVRRGRPRRPLQNSPPVDLSALLRPVNLYGRRAPGMRAPRNTTQFIMNQVYEDMRKQEKQERRQEALRARQAAAAAAAAATAGQAPGVPAAAAPLDCSGVLQPVRSRDDEDKEMWLLQETFCSFVQNQLYCLVPSPAAAVAEDEEEENEDGACAPPFSAGGGIEEEDGEEEEEEKDEDEEEEEEEEREEDEEEDLEAREEEEEEEDNEEEDEEEEERYGEEEDESEEGDEDEEFKEDENKEELKEEDDSEEEERRRTPTLEAAPTQALSKGLAPASTSEETPAQTLDEVLNSMPPPQTSTLDGTPLQAPDKGIAVASSPLIPSPPPVSETIHQLANVTAYVPPEIQQSLDSLAKLLPRLMADAQNDDDDDDDDDDDDIDKKEINETKESKEKKEEEEGEI\n",
                        "MALALDRRADPLNLGGGWASPSSLPPWSPCHRRRRSTAMSRRRHRSGPKLEYEELRKQAKHQHDPGPPWPHTQRRPERPASLSCWGPGGCWTPGPWRCPPMEVWKPPGRVQVVRVYGLRPPCPCCCSCWSGPDKPGPGRLYRKKKKKRWGRKGRGVRRGHPRRPLQSSPPVDLSALLRPVNLYGRRAPGMRAPRNTTQFIMNQVYEDMRKQEKQERQQEALRARQATAAATSAAAAAAAAAAARQEPGAAAAATPQDGSGALQPVLSRGEEDKEMQLLQGTFYSFVQKQLYCLVPSPAAAVDEDEDEEEDEGQALRLSLQQEGIEEDGEEEEEEEEEEEEEEEEEEEEEEEEEEEEEEEEDEEKDEDDDEEEEEEEEEKEEEGEEDEEEEEEVKEEEEEEEEEEEEEEEEEDSEEEDEEEERYGEEEDESEEEGDEEEEFKEDETEEEELKEEDENEEEEEMEEEEEDYQEEEQQQDEDQQRLDSPLTSPETPEEEPANLSNCDFLTREQRIVQKLQERFPMIVQKVLC\n",
                        "MALALDRRADPLNLGGGWASPSPLPPWSPCHRRRRSTAMSRRRHRSGPKLEYEELRKQAKHQHEAGPQWPHTQRRTERPSSPTCWGPGACWTPGPWRCPPVEVWKPPGRVQVVRVYGLRPACSCCCSCWSGPDKPGSGRPYRKKKKKRWGRKGRGVRRGHPRRPLQSSPAVDLSALLRPVNLYGRRAPGMRAPRNTTQFIMNQVYEDMRKQEKQERQQEALRARQAAAAAAAAAAAAATVGQEQGVPAVAAPSRPDGSAGALQPVRGGGEQDKEMQLLQETFYSFVQKQLYCLVPSPAANAAIQEDEDEDEEEEEEEEEEEEEEEEEEDEEEEEEEDEEEEEEDEEEEEEEEGHLLHLSLQQEGMEEEREEEEEEEKDEEDEEKEEEEEEEDNEEEEEEEEDEEERYEEEEDESEEGDEEEEEFQEDEEEELMKEEDDIEEEEEMEEEEDYQEEEQLQDEDQQPLETPLTSPATPEEEPENILNCHFLARERRIAQKLQERCPMIVQKVLC\n",
                        "MALALDRRADPLNLGGGWASPSPLPPWSPCHRRRRSTAMSRRRHRSGPKLEYEELRKQAKHQHEAGPQWPHTQRRTERPSSPTCWGPGACWTPGPWRCPPVEVWKPPGRVQVVRVYGLRPACSCCCSCWSGPDKPGSGRPYRKKKKKRWGRKGRGVRRGHPRRPLQSSPAVDLSALLRPVNLYGRRAPGMRAPRNTTQFIMNQVYEDMRKQEKQERQQEALRARQAAAAAAAAAAAAATVGQEQGVPAVAATSRPEGSAGALQPVRGGGEQDKEMQLLQETFYSFVQKQLYCLVPSPAAKAAIQEDEDEDEEEEEEEEEEEEEEEEEEEEDEEEEEEDEEEEEEDEEEEEGHLLHLSLQQDGMEEEREEEEEEEKDEEEEEKEEEEEEEEEESEEGDEEEEEFQEDEEEELMKEEDDIEEEEEMEEEEDYQEEEQLQDEDQQPLETPLTSPATPEEEPENILNCHFLARERRIAQKLQERCPMIVQKVLC\n",
                        "MALALDRRADPLNLGGGWASPSPLPPWSPCHRRRRSTAMSRRRHRSGPKLEYEELRRQAKNQHDPGPPWPHAQRRPERSAGPTCCGPRGCWTPGPWRCPPVEVWKPPGRVQVVRVYGMRPPCPCCCSCWSGHDKPGPGRLYRKKKKKRWGRKGRGVRSGHPRRPGQNSPPVDLSALLRPVNLYGRRAPGMRAPRNTTQFIMNQVYEDMRKQEKQERQQEALRARQAAATAGQEPGAPGAPGAPGAPTAAGPSDGGGVLQPVHSRGDEDKEMRLLQETFYSFVQKQLYCLVPGPAASVEADEDEDEDEDEVEVEDEEEEEEEEEEDEDQGHEEEEEEEDLEAREEAEEEEEEEEEEEEEEDEEEEERYGEGEDESEEGDEEEELKEEDDSEEEEEEEMEDEEKDYPEEEGQPLDSPLTSPRISEGGEAEDILNCDFLTRDRRIVQKLQERFPVIVQKVLC\n",
                        "MALALDRRADPLNLGGGWASPSPLPPWSPCHRRRRSTAMSRRRHRSGPKLEYEELRKQAKHQNEPGPAWPHPQRRPERPASPSCWGAGGCWSTGPWRCPPVEVWKPPGRVQVVRVYGLRPPCACCCSCWNGPDKQGPARLYRKKKKKRWGRKGRGVRRGHPRRPLQSSPPVDLSALLRPVNLYGRRAPGMRAPRNTTQFIMNQVYEDMRKQEKQERQQEALRARQAAAAAAAAAAAAAAAAAAAGQKQGAAAAAGPPDGSAGALRAVRSAGDQDKEMQLLQETFYSFVQKQLYCLVPSPAAAEEEREEDEEEEELREEEEEEEEEDHEEEEDEEEEERYGEEEDESEEGDDEEEFKDENEEDELKEEDDNEEEEEEEDEEEEEEEEMEEEEEEEDYQDEEQQQDEDQQPLESPLTSPATPEEEPGNILNFEFLTREQRIVQKLQERCPMIVQKVLC\n",
                        "MSLSGDEEPRPSGAGWSSPAAGPPPGACHGRGRRRPRPCPAAPAPGGCPSTWGRPGCPHWGPCGPWAGPVRVEVVWLGGPGPSCPCRCPCGAEKLGGGGLPKRRRRKWRWAGGGGVRRRAPGLSAPRNTTQFIMNQVYEDMRRRERLQRRRPRTPPAGLEAYLHGDPPRDSAALPAFPGTPRPAGPRTPPAGLEPYPHPAGLVTESAALPAFPGTPRPRTPPAGLEPYLQCAGGPARESAALPAFPGTPRPRTPPAGLEPYPRGGPATESAALPAFPGTPRRLAASPAPAEKMVTVPAGDDRQRSQQQQHAGGDPGDEEESGDGEDDEDDEVEDDEVEDDEVEDDEVEDDEEEEEDVEGEEGKEAVKREAGGGDDGDWAEEAEARQGADVEREEDGQRGRGRQRRGEEDHRLPRSPRAATEKKAWREEICALGPPSPQFYRRRCVGAGRVAV\n",
                        "MTQTLYTREEPRNLGGGWAPPAPLRTWSTCHRRRRGAPIYKRRRRYGPKSEYEPPWKQPKQQHGPGPWFQPPRRPYWAVSPNGGRRGGPWRPPPGGFWRRPGRVQVIRVYGLHPVCLCCCSCWRGPWKRGWARPPGRRKRWGRRGRGPRRPPRRPSPPRPPAALSTLLRPVNLYGWRAPGMRAPRNTTQFIMNQIYEDMRQEELERQQEALRRQQAAPGGSSQSDEARRGEEEDRGEEEDREEEEDREEEEEEDAGPWGAPYGGVQDPSLVFSPDPDRGLGSPAAPLGQEEQGEEGEEGEECECECDNEECDGKEEESQEEEEEEEASDDEEEEVEEADCVEEGEEEQEEEEGEEGEEDQEEEEEDQEEEEETEEEAVEEEEPREEENHLPLQMPLSFLVGPEEERENFLNCAYLSPKQIIPRVAQEALLVVETLTVSRKGIEDGMELM\n",
                        "MTQTLFQKEDPLNLGGGWSSSAPLGTWSSCRRRRRGAPIYKQRYSQGRKSGYEPPRKKPKQQHAPRPWFQPPRRPCWYPNWGSCAGPWHPPPAGFRKPPCPVEMMQVYGLHPLCACCCSCWCAPWNPGWVRRPGRKKRWGRWGRWGPWGPWGRRGRLRRPPRSSFRRSPPVDLSMLLRPVNLYGWRAPGMRAPRNTTQFIMNQIYQDMRQQEKEERRQRAQRAQQARAGSSGDNAPPSDGEENAELPETFYSYLQDPSLVLSPPPVQVKESPAPQLVEEEEAMQEIKGEEEEQQEECEEEQQKECLEECDAKEAEYQEKEFDGEEEMEEEEGETEEEEVETEEEEEEEEAETEDEDVEEEEVKEADREEEGKEEEERRMQEQGPEEGQREEENHLPLEMPLSILVGAEEEEEKDFMNYTYLSLDQLIPDVPQEALFMIPDIDH\n",
                        "MTQTLDNREDPLNLGGGWASSAPLGTWSTCHRRRRGAPINQRRHRYGPKSEYEPPRKQPKQQHGPGPWFQPPRRPYWAVYSNWGRWGEPWRPPPAGFWKPPGQVQVIRVFGVHPLCLCCCSCCRGPWNPGWARPPGRKKRWGRRGRGLRRHPRRSFPRSPPVDLSTLLRPVNLYGWRAPGMRAPRNTTQFIMNQIYEDMRQQEKLERQQEALRAQQAQARGAASPGGSSGNDAPPSGGEEETEPRETLYPFAQNPSLGFSPDPDEEHGFPDEEHGFPAAQSGEEEEEDDDERREEEECDEEECDEECDGREESEEEEEEEEEEESEEEEEEEEEEESEEEEEEAEARDEEEVEDADCAEEDEEDEEEEEEEDDIEEEEEGMEEEEPREEENPLPLEMPLSFLVGAEEERENFINCPYLSPKQMIPKVPQEALLMVDDINC\n"
                    ]
                }
            ],
            "source": [
                "clust_ldo_sequences = ODB_DATABASE.get_sequences_from_list_of_seq_ids(output_dict['sequences_clustered_ldos'])\n",
                "for i in list(clust_ldo_sequences.values())[0:10]: print(i.seq)"
            ]
        }
    ],
    "metadata": {
        "jupytext": {
            "formats": "ipynb,py:percent"
        },
        "kernelspec": {
            "display_name": "odb_groups_x86",
            "language": "python",
            "name": "python3"
        },
        "language_info": {
            "codemirror_mode": {
                "name": "ipython",
                "version": 3
            },
            "file_extension": ".py",
            "mimetype": "text/x-python",
            "name": "python",
            "nbconvert_exporter": "python",
            "pygments_lexer": "ipython3",
            "version": "3.12.3"
        }
    },
    "nbformat": 4,
    "nbformat_minor": 2
}
